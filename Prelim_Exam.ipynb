{
  "nbformat": 4,
  "nbformat_minor": 0,
  "metadata": {
    "colab": {
      "provenance": [],
      "authorship_tag": "ABX9TyNsKY6ZbA3Rd1mnWRgMrmbc",
      "include_colab_link": true
    },
    "kernelspec": {
      "name": "python3",
      "display_name": "Python 3"
    },
    "language_info": {
      "name": "python"
    }
  },
  "cells": [
    {
      "cell_type": "markdown",
      "metadata": {
        "id": "view-in-github",
        "colab_type": "text"
      },
      "source": [
        "<a href=\"https://colab.research.google.com/github/martlegaspi/58013-Linear-Algebra/blob/main/Prelim_Exam.ipynb\" target=\"_parent\"><img src=\"https://colab.research.google.com/assets/colab-badge.svg\" alt=\"Open In Colab\"/></a>"
      ]
    },
    {
      "cell_type": "code",
      "execution_count": 9,
      "metadata": {
        "colab": {
          "base_uri": "https://localhost:8080/"
        },
        "id": "59pX7YbjscCV",
        "outputId": "e8c6e6e4-cca1-4c99-f939-a9b217c0b208"
      },
      "outputs": [
        {
          "output_type": "stream",
          "name": "stdout",
          "text": [
            "\n",
            "Multiplication Table for 1\n",
            "1\n",
            "2\n",
            "3\n",
            "4\n",
            "5\n",
            "6\n",
            "7\n",
            "8\n",
            "9\n",
            "10\n",
            "\n",
            "Multiplication Table for 2\n",
            "2\n",
            "4\n",
            "6\n",
            "8\n",
            "10\n",
            "12\n",
            "14\n",
            "16\n",
            "18\n",
            "20\n",
            "\n",
            "Multiplication Table for 3\n",
            "3\n",
            "6\n",
            "9\n",
            "12\n",
            "15\n",
            "18\n",
            "21\n",
            "24\n",
            "27\n",
            "30\n",
            "\n",
            "Multiplication Table for 4\n",
            "4\n",
            "8\n",
            "12\n",
            "16\n",
            "20\n",
            "24\n",
            "28\n",
            "32\n",
            "36\n",
            "40\n",
            "\n",
            "Multiplication Table for 5\n",
            "5\n",
            "10\n",
            "15\n",
            "20\n",
            "25\n",
            "30\n",
            "35\n",
            "40\n",
            "45\n",
            "50\n",
            "\n",
            "Multiplication Table for 6\n",
            "6\n",
            "12\n",
            "18\n",
            "24\n",
            "30\n",
            "36\n",
            "42\n",
            "48\n",
            "54\n",
            "60\n",
            "\n",
            "Multiplication Table for 7\n",
            "7\n",
            "14\n",
            "21\n",
            "28\n",
            "35\n",
            "42\n",
            "49\n",
            "56\n",
            "63\n",
            "70\n",
            "\n",
            "Multiplication Table for 8\n",
            "8\n",
            "16\n",
            "24\n",
            "32\n",
            "40\n",
            "48\n",
            "56\n",
            "64\n",
            "72\n",
            "80\n",
            "\n",
            "Multiplication Table for 9\n",
            "9\n",
            "18\n",
            "27\n",
            "36\n",
            "45\n",
            "54\n",
            "63\n",
            "72\n",
            "81\n",
            "90\n",
            "\n",
            "Multiplication Table for 10\n",
            "10\n",
            "20\n",
            "30\n",
            "40\n",
            "50\n",
            "60\n",
            "70\n",
            "80\n",
            "90\n",
            "100\n"
          ]
        }
      ],
      "source": [
        "#Question 1\n",
        "import numpy as np\n",
        "\n",
        "num = np.array([1,2,3,4,5,6,7,8,9,10])\n",
        "\n",
        "for i in num:\n",
        " x = 1\n",
        " print('\\nMultiplication Table for', i)\n",
        " while x<=10:\n",
        "  print(np.multiply(x,i))\n",
        "  x+=1"
      ]
    },
    {
      "cell_type": "code",
      "source": [
        "#Question 2\n",
        "num = np.array([1,2,3,4,5,6,7,8,9,10])\n",
        "\n",
        "for i in num:\n",
        " x = 1\n",
        " print('\\nMultiplication Table for', i)\n",
        " while x<=10:\n",
        "  mul = np.multiply(x,i)\n",
        "  print(np.multiply(2,mul), '= 2 x',mul)\n",
        "  x+=1"
      ],
      "metadata": {
        "colab": {
          "base_uri": "https://localhost:8080/"
        },
        "id": "NZUDF3InuMai",
        "outputId": "c2f8a45c-9de5-41e6-b2f3-3114ffd97bfc"
      },
      "execution_count": 27,
      "outputs": [
        {
          "output_type": "stream",
          "name": "stdout",
          "text": [
            "\n",
            "Multiplication Table for 1\n",
            "2 = 2 x 1\n",
            "4 = 2 x 2\n",
            "6 = 2 x 3\n",
            "8 = 2 x 4\n",
            "10 = 2 x 5\n",
            "12 = 2 x 6\n",
            "14 = 2 x 7\n",
            "16 = 2 x 8\n",
            "18 = 2 x 9\n",
            "20 = 2 x 10\n",
            "\n",
            "Multiplication Table for 2\n",
            "4 = 2 x 2\n",
            "8 = 2 x 4\n",
            "12 = 2 x 6\n",
            "16 = 2 x 8\n",
            "20 = 2 x 10\n",
            "24 = 2 x 12\n",
            "28 = 2 x 14\n",
            "32 = 2 x 16\n",
            "36 = 2 x 18\n",
            "40 = 2 x 20\n",
            "\n",
            "Multiplication Table for 3\n",
            "6 = 2 x 3\n",
            "12 = 2 x 6\n",
            "18 = 2 x 9\n",
            "24 = 2 x 12\n",
            "30 = 2 x 15\n",
            "36 = 2 x 18\n",
            "42 = 2 x 21\n",
            "48 = 2 x 24\n",
            "54 = 2 x 27\n",
            "60 = 2 x 30\n",
            "\n",
            "Multiplication Table for 4\n",
            "8 = 2 x 4\n",
            "16 = 2 x 8\n",
            "24 = 2 x 12\n",
            "32 = 2 x 16\n",
            "40 = 2 x 20\n",
            "48 = 2 x 24\n",
            "56 = 2 x 28\n",
            "64 = 2 x 32\n",
            "72 = 2 x 36\n",
            "80 = 2 x 40\n",
            "\n",
            "Multiplication Table for 5\n",
            "10 = 2 x 5\n",
            "20 = 2 x 10\n",
            "30 = 2 x 15\n",
            "40 = 2 x 20\n",
            "50 = 2 x 25\n",
            "60 = 2 x 30\n",
            "70 = 2 x 35\n",
            "80 = 2 x 40\n",
            "90 = 2 x 45\n",
            "100 = 2 x 50\n",
            "\n",
            "Multiplication Table for 6\n",
            "12 = 2 x 6\n",
            "24 = 2 x 12\n",
            "36 = 2 x 18\n",
            "48 = 2 x 24\n",
            "60 = 2 x 30\n",
            "72 = 2 x 36\n",
            "84 = 2 x 42\n",
            "96 = 2 x 48\n",
            "108 = 2 x 54\n",
            "120 = 2 x 60\n",
            "\n",
            "Multiplication Table for 7\n",
            "14 = 2 x 7\n",
            "28 = 2 x 14\n",
            "42 = 2 x 21\n",
            "56 = 2 x 28\n",
            "70 = 2 x 35\n",
            "84 = 2 x 42\n",
            "98 = 2 x 49\n",
            "112 = 2 x 56\n",
            "126 = 2 x 63\n",
            "140 = 2 x 70\n",
            "\n",
            "Multiplication Table for 8\n",
            "16 = 2 x 8\n",
            "32 = 2 x 16\n",
            "48 = 2 x 24\n",
            "64 = 2 x 32\n",
            "80 = 2 x 40\n",
            "96 = 2 x 48\n",
            "112 = 2 x 56\n",
            "128 = 2 x 64\n",
            "144 = 2 x 72\n",
            "160 = 2 x 80\n",
            "\n",
            "Multiplication Table for 9\n",
            "18 = 2 x 9\n",
            "36 = 2 x 18\n",
            "54 = 2 x 27\n",
            "72 = 2 x 36\n",
            "90 = 2 x 45\n",
            "108 = 2 x 54\n",
            "126 = 2 x 63\n",
            "144 = 2 x 72\n",
            "162 = 2 x 81\n",
            "180 = 2 x 90\n",
            "\n",
            "Multiplication Table for 10\n",
            "20 = 2 x 10\n",
            "40 = 2 x 20\n",
            "60 = 2 x 30\n",
            "80 = 2 x 40\n",
            "100 = 2 x 50\n",
            "120 = 2 x 60\n",
            "140 = 2 x 70\n",
            "160 = 2 x 80\n",
            "180 = 2 x 90\n",
            "200 = 2 x 100\n"
          ]
        }
      ]
    },
    {
      "cell_type": "code",
      "source": [
        "#Question 3\n",
        "dia = np.eye(4,4)\n",
        "\n",
        "print(dia)"
      ],
      "metadata": {
        "colab": {
          "base_uri": "https://localhost:8080/"
        },
        "id": "D_Vh9d4yv-0i",
        "outputId": "fc68b55f-8d13-496a-9764-4fe56dff4eb9"
      },
      "execution_count": 12,
      "outputs": [
        {
          "output_type": "stream",
          "name": "stdout",
          "text": [
            "[[1. 0. 0. 0.]\n",
            " [0. 1. 0. 0.]\n",
            " [0. 0. 1. 0.]\n",
            " [0. 0. 0. 1.]]\n"
          ]
        }
      ]
    },
    {
      "cell_type": "code",
      "source": [
        "#Question 4\n",
        "matrix = np.array([[1, 2, 3, 4],\n",
        "                   [5, 6, 7, 8],\n",
        "                   [9, 10, 11, 12]])\n",
        "\n",
        "print('matrix =\\n', matrix)\n",
        "print('\\nThe size of the matrix is', np.size(matrix))\n",
        "print('The shape of the matrix is', np.shape(matrix))\n",
        "print('The dimension of the matrix is', len(np.shape(matrix)))"
      ],
      "metadata": {
        "colab": {
          "base_uri": "https://localhost:8080/"
        },
        "id": "uUCFXWR1wmcy",
        "outputId": "5d93a583-8826-4472-863e-c216a9bb8cd0"
      },
      "execution_count": 21,
      "outputs": [
        {
          "output_type": "stream",
          "name": "stdout",
          "text": [
            "matrix =\n",
            " [[ 1  2  3  4]\n",
            " [ 5  6  7  8]\n",
            " [ 9 10 11 12]]\n",
            "\n",
            "The size of the matrix is 12\n",
            "The shape of the matrix is (3, 4)\n",
            "The dimension of the matrix is 2\n"
          ]
        }
      ]
    },
    {
      "cell_type": "code",
      "source": [
        "#Question 5\n",
        "arrayOne = np.array([[5,6,9], [21,18,27]])\n",
        "arrayTwo = np.array([[15,33,24],[4,7,1]])\n",
        "\n",
        "print('arrayOne =\\n',arrayOne)\n",
        "print('arrayTwo =\\n',arrayTwo)\n",
        "\n",
        "sum = np.add(arrayOne, arrayTwo)\n",
        "print('\\narrayOne + arrayTwo =\\n', sum)\n",
        "\n",
        "print('\\n(arrayOne + arrayTwo)^2 =\\n', np.multiply(sum,sum))"
      ],
      "metadata": {
        "colab": {
          "base_uri": "https://localhost:8080/"
        },
        "id": "vzGqQTzfy5xv",
        "outputId": "1169d950-b2b2-4ace-f5b1-87189b158050"
      },
      "execution_count": 26,
      "outputs": [
        {
          "output_type": "stream",
          "name": "stdout",
          "text": [
            "arrayOne =\n",
            " [[ 5  6  9]\n",
            " [21 18 27]]\n",
            "arrayTwo =\n",
            " [[15 33 24]\n",
            " [ 4  7  1]]\n",
            "\n",
            "arrayOne + arrayTwo =\n",
            " [[20 39 33]\n",
            " [25 25 28]]\n",
            "\n",
            "(arrayOne + arrayTwo)^2 =\n",
            " [[ 400 1521 1089]\n",
            " [ 625  625  784]]\n"
          ]
        }
      ]
    }
  ]
}