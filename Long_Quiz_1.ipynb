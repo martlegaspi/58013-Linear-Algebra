{
  "nbformat": 4,
  "nbformat_minor": 0,
  "metadata": {
    "colab": {
      "provenance": [],
      "authorship_tag": "ABX9TyPImrsKHNejQBZTCOCFpz9K",
      "include_colab_link": true
    },
    "kernelspec": {
      "name": "python3",
      "display_name": "Python 3"
    },
    "language_info": {
      "name": "python"
    }
  },
  "cells": [
    {
      "cell_type": "markdown",
      "metadata": {
        "id": "view-in-github",
        "colab_type": "text"
      },
      "source": [
        "<a href=\"https://colab.research.google.com/github/martlegaspi/58013-Linear-Algebra/blob/main/Long_Quiz_1.ipynb\" target=\"_parent\"><img src=\"https://colab.research.google.com/assets/colab-badge.svg\" alt=\"Open In Colab\"/></a>"
      ]
    },
    {
      "cell_type": "code",
      "source": [
        "#Problem 1\n",
        "import numpy as np\n",
        "\n",
        "A = np.array([[1, 2, 3], [4, 5, 6]])\n",
        "B = np.array([[1, 2], [3, 4], [5, 6]])\n",
        "C = np.array([[1, 2, 3], [4, 5, 6], [7, 8, 9]])\n",
        "D = np.array([[1, 2], [3, 4]])\n",
        "\n",
        "print('A =\\n', A)\n",
        "print('B =\\n', B)\n",
        "print('C =\\n', C)\n",
        "print('D =\\n', D)\n",
        "\n",
        "a = np.dot(A, B)\n",
        "b = np.add(D, D)\n",
        "c = np.multiply(2, C)\n",
        "\n",
        "\n",
        "print('\\n\\nAB =\\n', a)\n",
        "print('\\nD+D =\\n', b)\n",
        "print('\\n2C =\\n', c)"
      ],
      "metadata": {
        "colab": {
          "base_uri": "https://localhost:8080/"
        },
        "id": "-ttnf2uoKWuh",
        "outputId": "13734680-cd73-42e0-f8f1-707941be9174"
      },
      "execution_count": 53,
      "outputs": [
        {
          "output_type": "stream",
          "name": "stdout",
          "text": [
            "A =\n",
            " [[1 2 3]\n",
            " [4 5 6]]\n",
            "B =\n",
            " [[1 2]\n",
            " [3 4]\n",
            " [5 6]]\n",
            "C =\n",
            " [[1 2 3]\n",
            " [4 5 6]\n",
            " [7 8 9]]\n",
            "D =\n",
            " [[1 2]\n",
            " [3 4]]\n",
            "\n",
            "\n",
            "AB =\n",
            " [[22 28]\n",
            " [49 64]]\n",
            "\n",
            "D+D =\n",
            " [[2 4]\n",
            " [6 8]]\n",
            "\n",
            "2C =\n",
            " [[ 2  4  6]\n",
            " [ 8 10 12]\n",
            " [14 16 18]]\n"
          ]
        }
      ]
    },
    {
      "cell_type": "code",
      "source": [
        "#Problem 2\n",
        "A = np.array([2, 7, 4])\n",
        "B = np.array([3, 9, 8])\n",
        "\n",
        "print('A =\\n', A)\n",
        "print('B =\\n', B)\n",
        "\n",
        "cross = np.cross(A,B)\n",
        "print('\\nThe cross-product of matrices A and B is:\\n', cross)\n",
        "print('\\n Solution:\\nLet x be the 1st column, y be the 2nd column, and z be 3rd column')\n",
        "\n",
        "x = np.array([[7, 4], [9, 8]])\n",
        "y = np.array([[2, 4], [3, 8]])\n",
        "z = np.array([[2, 7], [3, 9]])\n",
        "\n",
        "print('cross product = x-y+z\\n', x, '\\n-\\n', y, '\\n+\\n', z)\n",
        "print('\\nx = (7*8)-(9*4) =', (7*8)-(9*4))\n",
        "print('y = -((2*8)-(3*4)) =', -((2*8)-(3*4)))\n",
        "print('y = (2*9)-(3*7) =', (2*9)-(3*7))"
      ],
      "metadata": {
        "colab": {
          "base_uri": "https://localhost:8080/"
        },
        "id": "jC0TGarINnaI",
        "outputId": "47b37824-9fb3-4d4d-dcaa-3cf9d068a977"
      },
      "execution_count": 77,
      "outputs": [
        {
          "output_type": "stream",
          "name": "stdout",
          "text": [
            "A =\n",
            " [2 7 4]\n",
            "B =\n",
            " [3 9 8]\n",
            "\n",
            "The cross-product of matrices A and B is:\n",
            " [20 -4 -3]\n",
            "\n",
            " Solution:\n",
            "Let x be the 1st column, y be the 2nd column, and z be 3rd column\n",
            "cross product = x-y+z\n",
            " [[7 4]\n",
            " [9 8]] \n",
            "-\n",
            " [[2 4]\n",
            " [3 8]] \n",
            "+\n",
            " [[2 7]\n",
            " [3 9]]\n",
            "\n",
            "x = (7*8)-(9*4) = 20\n",
            "y = -((2*8)-(3*4)) = -4\n",
            "y = (2*9)-(3*7) = -3\n"
          ]
        }
      ]
    }
  ]
}