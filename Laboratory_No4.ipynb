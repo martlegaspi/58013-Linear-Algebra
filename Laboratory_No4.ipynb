{
  "nbformat": 4,
  "nbformat_minor": 0,
  "metadata": {
    "colab": {
      "provenance": [],
      "authorship_tag": "ABX9TyNUTcP6RdiWtuTGd8KBCGaQ",
      "include_colab_link": true
    },
    "kernelspec": {
      "name": "python3",
      "display_name": "Python 3"
    },
    "language_info": {
      "name": "python"
    }
  },
  "cells": [
    {
      "cell_type": "markdown",
      "metadata": {
        "id": "view-in-github",
        "colab_type": "text"
      },
      "source": [
        "<a href=\"https://colab.research.google.com/github/martlegaspi/58013-Linear-Algebra/blob/main/Laboratory_No4.ipynb\" target=\"_parent\"><img src=\"https://colab.research.google.com/assets/colab-badge.svg\" alt=\"Open In Colab\"/></a>"
      ]
    },
    {
      "cell_type": "code",
      "execution_count": 22,
      "metadata": {
        "colab": {
          "base_uri": "https://localhost:8080/"
        },
        "id": "eTwNerLcDY-N",
        "outputId": "8e24e2fd-4f94-489c-9894-d3dd2f0b7e3e"
      },
      "outputs": [
        {
          "output_type": "stream",
          "name": "stdout",
          "text": [
            "B= [-0.2  0.2  1. ] \n",
            "\n",
            "C= [-0.2  2.1 -1.5]\n",
            "\n",
            "BC=\n",
            " [ 0.04  0.42 -1.5 ]\n",
            "\n",
            "BC=\n",
            " [ 0.04  0.42 -1.5 ]\n"
          ]
        }
      ],
      "source": [
        "import numpy as np\n",
        "\n",
        "B = np.array([-0.2,0.2,1])\n",
        "C = np.array([-0.2,2.1,-1.5])\n",
        "print('B=',B,'\\n\\nC=',C)\n",
        "\n",
        "y1 = np.multiply(B,C)\n",
        "print('\\nBC=\\n',y1)\n",
        "\n",
        "y2 = B*C\n",
        "print('\\nBC=\\n',y2)"
      ]
    },
    {
      "cell_type": "code",
      "source": [
        "A = np.array([[-0.4],[4.3],[-0.6]])\n",
        "B = np.array([-0.2,0.2,1])\n",
        "\n",
        "print('A=\\n', A,'\\n\\nB=',B)\n",
        "\n",
        "x1 = np.multiply(A,B)\n",
        "print('\\nAB=\\n',x1)\n",
        "\n",
        "x2 = A*B\n",
        "print('\\nAB=\\n',x2)"
      ],
      "metadata": {
        "colab": {
          "base_uri": "https://localhost:8080/"
        },
        "id": "mbVJ4_k1G8Ay",
        "outputId": "a607bd2c-e9eb-449c-964d-353f614c382b"
      },
      "execution_count": 23,
      "outputs": [
        {
          "output_type": "stream",
          "name": "stdout",
          "text": [
            "A=\n",
            " [[-0.4]\n",
            " [ 4.3]\n",
            " [-0.6]] \n",
            "\n",
            "B= [-0.2  0.2  1. ]\n",
            "\n",
            "AB=\n",
            " [[ 0.08 -0.08 -0.4 ]\n",
            " [-0.86  0.86  4.3 ]\n",
            " [ 0.12 -0.12 -0.6 ]]\n",
            "\n",
            "AB=\n",
            " [[ 0.08 -0.08 -0.4 ]\n",
            " [-0.86  0.86  4.3 ]\n",
            " [ 0.12 -0.12 -0.6 ]]\n"
          ]
        }
      ]
    }
  ]
}