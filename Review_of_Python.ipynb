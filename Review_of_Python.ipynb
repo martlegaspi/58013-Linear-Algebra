{
  "nbformat": 4,
  "nbformat_minor": 0,
  "metadata": {
    "colab": {
      "provenance": [],
      "authorship_tag": "ABX9TyOkfzicPKuEslbWXhES/3Zr",
      "include_colab_link": true
    },
    "kernelspec": {
      "name": "python3",
      "display_name": "Python 3"
    },
    "language_info": {
      "name": "python"
    }
  },
  "cells": [
    {
      "cell_type": "markdown",
      "metadata": {
        "id": "view-in-github",
        "colab_type": "text"
      },
      "source": [
        "<a href=\"https://colab.research.google.com/github/martlegaspi/58013-Linear-Algebra/blob/main/Review_of_Python.ipynb\" target=\"_parent\"><img src=\"https://colab.research.google.com/assets/colab-badge.svg\" alt=\"Open In Colab\"/></a>"
      ]
    },
    {
      "cell_type": "code",
      "execution_count": 2,
      "metadata": {
        "colab": {
          "base_uri": "https://localhost:8080/"
        },
        "id": "pdOFFJTXe7me",
        "outputId": "fc8e65ac-48cc-4b82-8b8b-61829e1e8248"
      },
      "outputs": [
        {
          "output_type": "stream",
          "name": "stdout",
          "text": [
            "Five is greater than two!\n"
          ]
        }
      ],
      "source": [
        "#Python Indentation\n",
        "\n",
        "if 5>2:\n",
        " print(\"Five is greater than two!\")"
      ]
    },
    {
      "cell_type": "code",
      "source": [
        "#This is a comment\n",
        "\n",
        "print(\"Hello, world\")"
      ],
      "metadata": {
        "colab": {
          "base_uri": "https://localhost:8080/"
        },
        "id": "87Sd6PkmiWCO",
        "outputId": "20ec12be-39b5-451f-9d58-c9cd96a4d79d"
      },
      "execution_count": 4,
      "outputs": [
        {
          "output_type": "stream",
          "name": "stdout",
          "text": [
            "Hello, world\n"
          ]
        }
      ]
    },
    {
      "cell_type": "code",
      "source": [
        "#Python Variable\n",
        "\n",
        "x=1\n",
        "a, b=0, -1\n",
        "a, b, c=0, -1, 2\n",
        "\n",
        "b=\"Sally\" #This is a type of string"
      ],
      "metadata": {
        "id": "i80B4hZxjHlF"
      },
      "execution_count": 10,
      "outputs": []
    },
    {
      "cell_type": "code",
      "source": [
        "#Casting\n",
        "\n",
        "b=\"sally\" #This is a type of string\n",
        "b=int(4)\n",
        "print(b)\n",
        "\n",
        "b=float(4)\n",
        "print(b)"
      ],
      "metadata": {
        "colab": {
          "base_uri": "https://localhost:8080/"
        },
        "id": "ZVQgndH8jnz1",
        "outputId": "83e12115-63f7-40bf-cd47-a3b295f4afa9"
      },
      "execution_count": 5,
      "outputs": [
        {
          "output_type": "stream",
          "name": "stdout",
          "text": [
            "4\n",
            "4.0\n"
          ]
        }
      ]
    },
    {
      "cell_type": "code",
      "source": [
        "#Type() Function\n",
        "\n",
        "x=5\n",
        "y=\"John\"\n",
        "print(type(x))\n",
        "print(type(y))"
      ],
      "metadata": {
        "colab": {
          "base_uri": "https://localhost:8080/"
        },
        "id": "7tnFUDWBkCpG",
        "outputId": "5b4652d8-d2d8-4ba4-a1d8-f0314024844a"
      },
      "execution_count": 9,
      "outputs": [
        {
          "output_type": "stream",
          "name": "stdout",
          "text": [
            "<class 'int'>\n",
            "<class 'str'>\n"
          ]
        }
      ]
    },
    {
      "cell_type": "code",
      "source": [
        "#\"Double quotes\" or 'single' quotes\n",
        "\n",
        "y=\"John\"\n",
        "y='John'"
      ],
      "metadata": {
        "id": "J8MXYkV3kpbQ"
      },
      "execution_count": 11,
      "outputs": []
    },
    {
      "cell_type": "code",
      "source": [
        "#Case sensitive\n",
        "\n",
        "a=4\n",
        "A=\"Sally\"\n",
        "#A will not overwrite a"
      ],
      "metadata": {
        "id": "aEcujmbWlITP"
      },
      "execution_count": 12,
      "outputs": []
    },
    {
      "cell_type": "code",
      "source": [
        "#Multiple Variables\n",
        "\n",
        "x,y,z=\"one\", \"two\", \"three\"\n",
        "print(x)\n",
        "print(y)\n",
        "print(z)"
      ],
      "metadata": {
        "colab": {
          "base_uri": "https://localhost:8080/"
        },
        "id": "seio1b-nlaFw",
        "outputId": "b4209471-e4ea-4e8f-c302-5306edf8300b"
      },
      "execution_count": 16,
      "outputs": [
        {
          "output_type": "stream",
          "name": "stdout",
          "text": [
            "one\n",
            "two\n",
            "three\n"
          ]
        }
      ]
    },
    {
      "cell_type": "code",
      "source": [
        "#One Value to Multiple Variables\n",
        "\n",
        "x=y=z=\"four\"\n",
        "print(x)\n",
        "print(y)\n",
        "print(z)"
      ],
      "metadata": {
        "colab": {
          "base_uri": "https://localhost:8080/"
        },
        "id": "I8Hpkr36lyxL",
        "outputId": "3079d782-f386-4834-8ca0-b4e6daa88aad"
      },
      "execution_count": 17,
      "outputs": [
        {
          "output_type": "stream",
          "name": "stdout",
          "text": [
            "four\n",
            "four\n",
            "four\n"
          ]
        }
      ]
    },
    {
      "cell_type": "code",
      "source": [
        "#Output Variables\n",
        "\n",
        "x=\"enjoying\"\n",
        "\n",
        "print(\"Python programming is \"+ x)"
      ],
      "metadata": {
        "colab": {
          "base_uri": "https://localhost:8080/"
        },
        "id": "by9zUfxDmH5t",
        "outputId": "80e5f956-a5f7-4498-8708-1b5150bc754b"
      },
      "execution_count": 21,
      "outputs": [
        {
          "output_type": "stream",
          "name": "stdout",
          "text": [
            "Python programming is enjoying\n"
          ]
        }
      ]
    },
    {
      "cell_type": "code",
      "source": [
        "#Other way\n",
        "\n",
        "x=\"Python is \"\n",
        "y=\"enjoying\"\n",
        "z=x+y\n",
        "print(z)"
      ],
      "metadata": {
        "colab": {
          "base_uri": "https://localhost:8080/"
        },
        "id": "dWk9J4gwm3RT",
        "outputId": "92034018-643c-44ee-af85-c5d08acac957"
      },
      "execution_count": 24,
      "outputs": [
        {
          "output_type": "stream",
          "name": "stdout",
          "text": [
            "Python is enjoying\n"
          ]
        }
      ]
    },
    {
      "cell_type": "code",
      "source": [
        "#Arithmetic Operation\n",
        "\n",
        "x=5\n",
        "y=3\n",
        "print(x+y)\n",
        "\n",
        "x=5\n",
        "y=3\n",
        "sum=x+y\n",
        "sum"
      ],
      "metadata": {
        "colab": {
          "base_uri": "https://localhost:8080/"
        },
        "id": "Oh-ysrCxnq4b",
        "outputId": "92102ca9-d63b-4ed5-8858-f22c0758347a"
      },
      "execution_count": 25,
      "outputs": [
        {
          "output_type": "stream",
          "name": "stdout",
          "text": [
            "8\n"
          ]
        },
        {
          "output_type": "execute_result",
          "data": {
            "text/plain": [
              "8"
            ]
          },
          "metadata": {},
          "execution_count": 25
        }
      ]
    },
    {
      "cell_type": "code",
      "source": [
        "#Assignment Operator\n",
        "\n",
        "a,b,c=0,-1,6\n",
        "c%=3\n",
        "c"
      ],
      "metadata": {
        "colab": {
          "base_uri": "https://localhost:8080/"
        },
        "id": "a6I3XoBNoSNa",
        "outputId": "0f14f236-25be-46b2-c219-25748f9df582"
      },
      "execution_count": 26,
      "outputs": [
        {
          "output_type": "execute_result",
          "data": {
            "text/plain": [
              "0"
            ]
          },
          "metadata": {},
          "execution_count": 26
        }
      ]
    },
    {
      "cell_type": "code",
      "source": [
        "#Comparison Operator and Logical Operator\n",
        "\n",
        "a,b,c=0,-1,6\n",
        "a>b and c>b\n",
        "True"
      ],
      "metadata": {
        "colab": {
          "base_uri": "https://localhost:8080/"
        },
        "id": "KeVqaAd7pA0h",
        "outputId": "9259acb9-a25d-4c1c-b091-bad74efb33fd"
      },
      "execution_count": 29,
      "outputs": [
        {
          "output_type": "execute_result",
          "data": {
            "text/plain": [
              "True"
            ]
          },
          "metadata": {},
          "execution_count": 29
        }
      ]
    },
    {
      "cell_type": "code",
      "source": [
        "#Identity Operator\n",
        "\n",
        "a,b,c=0,-1,5\n",
        "a is c\n",
        "False"
      ],
      "metadata": {
        "colab": {
          "base_uri": "https://localhost:8080/"
        },
        "id": "xUNd59FDpJ1R",
        "outputId": "46920317-e0bd-4f0f-b0f0-16daa675baa4"
      },
      "execution_count": 30,
      "outputs": [
        {
          "output_type": "execute_result",
          "data": {
            "text/plain": [
              "False"
            ]
          },
          "metadata": {},
          "execution_count": 30
        }
      ]
    },
    {
      "cell_type": "code",
      "source": [
        "#Bitwise Operator\n",
        "\n",
        "a,b,c=0,-1,5\n",
        "\n",
        "print(c<<1)\n",
        "print(c>>1)"
      ],
      "metadata": {
        "colab": {
          "base_uri": "https://localhost:8080/"
        },
        "id": "E02J61ocqtYg",
        "outputId": "4db7e938-a36b-439d-e568-956834e5b939"
      },
      "execution_count": 37,
      "outputs": [
        {
          "output_type": "stream",
          "name": "stdout",
          "text": [
            "10\n",
            "2\n"
          ]
        }
      ]
    }
  ]
}