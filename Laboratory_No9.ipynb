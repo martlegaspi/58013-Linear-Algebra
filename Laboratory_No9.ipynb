{
  "nbformat": 4,
  "nbformat_minor": 0,
  "metadata": {
    "colab": {
      "provenance": [],
      "authorship_tag": "ABX9TyM2TFkyHH57Q8Jwni5DNcH/",
      "include_colab_link": true
    },
    "kernelspec": {
      "name": "python3",
      "display_name": "Python 3"
    },
    "language_info": {
      "name": "python"
    }
  },
  "cells": [
    {
      "cell_type": "markdown",
      "metadata": {
        "id": "view-in-github",
        "colab_type": "text"
      },
      "source": [
        "<a href=\"https://colab.research.google.com/github/martlegaspi/58013-Linear-Algebra/blob/main/Laboratory_No9.ipynb\" target=\"_parent\"><img src=\"https://colab.research.google.com/assets/colab-badge.svg\" alt=\"Open In Colab\"/></a>"
      ]
    },
    {
      "cell_type": "code",
      "execution_count": 8,
      "metadata": {
        "colab": {
          "base_uri": "https://localhost:8080/"
        },
        "id": "ya0QAbnu246p",
        "outputId": "7f584b15-63d3-47b8-92a4-d9e05f2c307c"
      },
      "outputs": [
        {
          "output_type": "stream",
          "name": "stdout",
          "text": [
            "3.0000000000000004\n",
            "-235.0000000000002\n"
          ]
        }
      ],
      "source": [
        "import numpy as np\n",
        "import matplotlib.pyplot as plt\n",
        "%matplotlib inline\n",
        "\n",
        "A = np.array([\n",
        "    [1,4],\n",
        "    [0,3]\n",
        "])\n",
        "print(np.linalg.det(A))\n",
        "\n",
        "## Now other mathematics classes would require you to solve this by hand,\n",
        "## and that is great for practicing your memorization and coordination skills\n",
        "## but in this class we aim for simplicity and speed so we'll use programming\n",
        "## but it's completely fine if you want to try to solve this one by hand.\n",
        "B = np.array([\n",
        "    [1,3,5,6],\n",
        "    [0,3,1,3],\n",
        "    [3,1,8,2],\n",
        "    [5,2,6,8]\n",
        "])\n",
        "print(np.linalg.det(B))\n"
      ]
    },
    {
      "cell_type": "code",
      "source": [
        "#The commutative property of multiplication does not hold!\n",
        "#AB != BA\n",
        "\n",
        "A = np.array([[2,3,1],[7,3,2],[8,5,9]])\n",
        "B = np.array([[8,5,3],[3,2,8],[1,4,8]])\n",
        "\n",
        "AB = np.dot(A,B)\n",
        "BA = np.dot(B,A)\n",
        "\n",
        "print(AB,'\\nis not equal\\n', BA)"
      ],
      "metadata": {
        "colab": {
          "base_uri": "https://localhost:8080/"
        },
        "id": "yHT8O0qZ3o2r",
        "outputId": "82a487f0-b1e8-4097-eb68-72ddaa5f75b9"
      },
      "execution_count": 20,
      "outputs": [
        {
          "output_type": "stream",
          "name": "stdout",
          "text": [
            "[[ 26  20  38]\n",
            " [ 67  49  61]\n",
            " [ 88  86 136]] \n",
            "is not equal\n",
            " [[75 54 45]\n",
            " [84 55 79]\n",
            " [94 55 81]]\n"
          ]
        }
      ]
    },
    {
      "cell_type": "code",
      "source": [
        "#Associative property of multiplication\n",
        "#(AB)C=A(BC)\n",
        "\n",
        "C = np.array([[5,3,7],[9,1,5],[5,2,8]])\n",
        "\n",
        "BC = np.dot(B,C)\n",
        "\n",
        "x = np.dot(AB,C)\n",
        "y = np.dot(A,BC)\n",
        "\n",
        "print(x, '\\nis equal to\\n', y)"
      ],
      "metadata": {
        "colab": {
          "base_uri": "https://localhost:8080/"
        },
        "id": "VEHd7_LK7kTP",
        "outputId": "8c65749c-6e75-4845-c4b0-4bc3ae9cfc3a"
      },
      "execution_count": 21,
      "outputs": [
        {
          "output_type": "stream",
          "name": "stdout",
          "text": [
            "[[ 500  174  586]\n",
            " [1081  372 1202]\n",
            " [1894  622 2134]] \n",
            "is equal to\n",
            " [[ 500  174  586]\n",
            " [1081  372 1202]\n",
            " [1894  622 2134]]\n"
          ]
        }
      ]
    },
    {
      "cell_type": "code",
      "source": [
        "#Distributive properties\n",
        "#A(B+C)=AB+AC\n",
        "#(B+C)A=BA+CA\n",
        "\n",
        "AC = np.dot(A,C)\n",
        "CA = np.dot(C,A)\n",
        "\n",
        "a = np.add(B,C)\n",
        "\n",
        "x1 = np.dot(A,a)\n",
        "x2 = np.dot(a,A)\n",
        "\n",
        "y1 = np.add(AB,AC)\n",
        "y2 = np.add(BA,CA)\n",
        "\n",
        "print(x1, '\\nis equal to\\n', y1)\n",
        "print('\\n', x2, '\\nis equal to\\n', y2)"
      ],
      "metadata": {
        "colab": {
          "base_uri": "https://localhost:8080/"
        },
        "id": "9_Hh5PhS9s71",
        "outputId": "4613c7c0-5645-4e53-9702-16d378b2807a"
      },
      "execution_count": 32,
      "outputs": [
        {
          "output_type": "stream",
          "name": "stdout",
          "text": [
            "[[ 68  31  75]\n",
            " [139  77 141]\n",
            " [218 133 289]] \n",
            "is equal to\n",
            " [[ 68  31  75]\n",
            " [139  77 141]\n",
            " [218 133 289]]\n",
            "\n",
            " [[162 113 119]\n",
            " [149 110 135]\n",
            " [182 116 162]] \n",
            "is equal to\n",
            " [[162 113 119]\n",
            " [149 110 135]\n",
            " [182 116 162]]\n"
          ]
        }
      ]
    },
    {
      "cell_type": "code",
      "source": [
        "#Multiplicative identity property\n",
        "#IA=A and AI=A wherein I is a diagonal matrix\n",
        "\n",
        "I = np.eye(3,3)\n",
        "\n",
        "IA = np.dot(I,A)\n",
        "AI = np.dot(A,I)\n",
        "\n",
        "print(IA, '\\nis equal to\\n', A)\n",
        "print('\\n', AI, '\\nis equal to\\n', A)"
      ],
      "metadata": {
        "colab": {
          "base_uri": "https://localhost:8080/"
        },
        "id": "GcBc2RDVAljT",
        "outputId": "46d2330a-5699-492d-eafe-8fbb1730b6dc"
      },
      "execution_count": 36,
      "outputs": [
        {
          "output_type": "stream",
          "name": "stdout",
          "text": [
            "[[2. 3. 1.]\n",
            " [7. 3. 2.]\n",
            " [8. 5. 9.]] \n",
            "is equal to\n",
            " [[2 3 1]\n",
            " [7 3 2]\n",
            " [8 5 9]]\n",
            "\n",
            " [[2. 3. 1.]\n",
            " [7. 3. 2.]\n",
            " [8. 5. 9.]] \n",
            "is equal to\n",
            " [[2 3 1]\n",
            " [7 3 2]\n",
            " [8 5 9]]\n"
          ]
        }
      ]
    },
    {
      "cell_type": "code",
      "source": [
        "#Multiplicative property of zero\n",
        "#0A=0 and A0=0\n",
        "\n",
        "O = np.zeros([3,3])\n",
        "\n",
        "OA = np.dot(O,A)\n",
        "AO = np.dot(A,O)\n",
        "\n",
        "print (OA, '\\nis equal to\\n', O)\n",
        "print ('\\n', AO, '\\nis equal to\\n', O)"
      ],
      "metadata": {
        "colab": {
          "base_uri": "https://localhost:8080/"
        },
        "id": "Nfjd5-zGBylS",
        "outputId": "fb37f3e3-4a74-4a7c-ee27-8d065781041c"
      },
      "execution_count": 41,
      "outputs": [
        {
          "output_type": "stream",
          "name": "stdout",
          "text": [
            "[[0. 0. 0.]\n",
            " [0. 0. 0.]\n",
            " [0. 0. 0.]] \n",
            "is equal to\n",
            " [[0. 0. 0.]\n",
            " [0. 0. 0.]\n",
            " [0. 0. 0.]]\n",
            "\n",
            " [[0. 0. 0.]\n",
            " [0. 0. 0.]\n",
            " [0. 0. 0.]] \n",
            "is equal to\n",
            " [[0. 0. 0.]\n",
            " [0. 0. 0.]\n",
            " [0. 0. 0.]]\n"
          ]
        }
      ]
    },
    {
      "cell_type": "code",
      "source": [
        "#Dimension property\n",
        "#The product of an mxn matrix and an nxk matrix is an mxk matrix\n",
        "#(3x2) (2x2) = (3x2)\n",
        "\n",
        "a1 = np.array([[3,2],[8,5],[5,4]])\n",
        "b1 = np.array([[7,5],[4,9]])\n",
        "print('a1 =\\n', a1)\n",
        "print('b1 =\\n', b1)\n",
        "\n",
        "ab1 = np.dot(a1,b1)\n",
        "print('\\n(a1)(b1) =\\n', ab1)\n",
        "print('\\nThe shape of matrix a1 is', np.shape(a1))\n",
        "print('The shape of matrix b1 is', np.shape(b1))\n",
        "print('The shape of matrix (a1)(b1) is', np.shape(ab1))"
      ],
      "metadata": {
        "colab": {
          "base_uri": "https://localhost:8080/"
        },
        "id": "V-_T-hJGC0l5",
        "outputId": "27413319-efe2-4052-c202-87ea6c2efd3b"
      },
      "execution_count": 55,
      "outputs": [
        {
          "output_type": "stream",
          "name": "stdout",
          "text": [
            "a1 =\n",
            " [[3 2]\n",
            " [8 5]\n",
            " [5 4]]\n",
            "b1 =\n",
            " [[7 5]\n",
            " [4 9]]\n",
            "\n",
            "(a1)(b1) =\n",
            " [[29 33]\n",
            " [76 85]\n",
            " [51 61]]\n",
            "\n",
            "The shape of matrix a1 is (3, 2)\n",
            "The shape of matrix b1 is (2, 2)\n",
            "The shape of matrix (a1)(b1) is (3, 2)\n"
          ]
        }
      ]
    }
  ]
}