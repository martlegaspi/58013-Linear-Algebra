{
  "nbformat": 4,
  "nbformat_minor": 0,
  "metadata": {
    "colab": {
      "provenance": [],
      "authorship_tag": "ABX9TyMznA+MrUNgQrTbCbWqOA5e",
      "include_colab_link": true
    },
    "kernelspec": {
      "name": "python3",
      "display_name": "Python 3"
    },
    "language_info": {
      "name": "python"
    }
  },
  "cells": [
    {
      "cell_type": "markdown",
      "metadata": {
        "id": "view-in-github",
        "colab_type": "text"
      },
      "source": [
        "<a href=\"https://colab.research.google.com/github/martlegaspi/58013-Linear-Algebra/blob/main/Laboratory_No5.ipynb\" target=\"_parent\"><img src=\"https://colab.research.google.com/assets/colab-badge.svg\" alt=\"Open In Colab\"/></a>"
      ]
    },
    {
      "cell_type": "code",
      "execution_count": 1,
      "metadata": {
        "id": "JC2VkXCMctRY",
        "colab": {
          "base_uri": "https://localhost:8080/"
        },
        "outputId": "37441aeb-60c8-48f5-fb4f-18877037af11"
      },
      "outputs": [
        {
          "output_type": "stream",
          "name": "stdout",
          "text": [
            "[ 5 25 40 45]\n",
            "[ 5 25 40 45]\n"
          ]
        }
      ],
      "source": [
        "#Scaling\n",
        "import numpy as np\n",
        "\n",
        "A = np.array([1,5,8,9])\n",
        "S = 5*A\n",
        "print(S)\n",
        "\n",
        "S = np.multiply(5,A)\n",
        "print(S)"
      ]
    },
    {
      "cell_type": "code",
      "source": [
        "#Dot Product\n",
        "import numpy as n\n",
        "a = [5, 10, 2]\n",
        "b = [2, 4, 3]\n",
        "dotproduct = n.dot(a,b)\n",
        "print('Dot product is:', dotproduct)"
      ],
      "metadata": {
        "colab": {
          "base_uri": "https://localhost:8080/"
        },
        "id": "NpH4HGj0QpRt",
        "outputId": "667769b0-6cee-4332-c136-48ff0cc33b44"
      },
      "execution_count": 2,
      "outputs": [
        {
          "output_type": "stream",
          "name": "stdout",
          "text": [
            "Dot product is: 56\n"
          ]
        }
      ]
    },
    {
      "cell_type": "code",
      "source": [
        "#Cross Product\n",
        "import numpy as np\n",
        "p = [4, 2]\n",
        "q = [5, 6]\n",
        "product = np.cross(p,q)\n",
        "print(product)"
      ],
      "metadata": {
        "colab": {
          "base_uri": "https://localhost:8080/"
        },
        "id": "mNr2o5Z_Q6b6",
        "outputId": "89c54374-2470-4731-b206-3adf5f0c8f42"
      },
      "execution_count": 3,
      "outputs": [
        {
          "output_type": "stream",
          "name": "stdout",
          "text": [
            "14\n"
          ]
        }
      ]
    }
  ]
}