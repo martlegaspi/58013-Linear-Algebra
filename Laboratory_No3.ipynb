{
  "nbformat": 4,
  "nbformat_minor": 0,
  "metadata": {
    "colab": {
      "provenance": [],
      "authorship_tag": "ABX9TyOUyrrtHgC078fYtpYamfM9",
      "include_colab_link": true
    },
    "kernelspec": {
      "name": "python3",
      "display_name": "Python 3"
    },
    "language_info": {
      "name": "python"
    }
  },
  "cells": [
    {
      "cell_type": "markdown",
      "metadata": {
        "id": "view-in-github",
        "colab_type": "text"
      },
      "source": [
        "<a href=\"https://colab.research.google.com/github/martlegaspi/58013-Linear-Algebra/blob/main/Laboratory_No3.ipynb\" target=\"_parent\"><img src=\"https://colab.research.google.com/assets/colab-badge.svg\" alt=\"Open In Colab\"/></a>"
      ]
    },
    {
      "cell_type": "code",
      "execution_count": 16,
      "metadata": {
        "colab": {
          "base_uri": "https://localhost:8080/"
        },
        "id": "JBf0yJXlzQAU",
        "outputId": "f92a4f95-339b-4fe9-afc2-e456f1a3395b"
      },
      "outputs": [
        {
          "output_type": "stream",
          "name": "stdout",
          "text": [
            "[ 4  3 -1]\n",
            "[ 4  3 -1]\n",
            "2\n"
          ]
        }
      ],
      "source": [
        "import numpy as np\n",
        "\n",
        "#Vector Addition\n",
        "A = np.array([1,2,0])\n",
        "B = np.array([3,1,-2])\n",
        "C = np.array([0,0,1])\n",
        "\n",
        "print(A+B+C)\n",
        "\n",
        "print(np.add(A,np.add(B,C)))\n",
        "\n",
        "print(np.sum(B))"
      ]
    },
    {
      "cell_type": "code",
      "source": [
        "#Vector Subtraction\n",
        "print(np.subtract(A,B))\n",
        "\n",
        "print(A-B)"
      ],
      "metadata": {
        "colab": {
          "base_uri": "https://localhost:8080/"
        },
        "id": "OEuq9HeJ2a2M",
        "outputId": "966e2e80-d491-4646-9be5-cdc5351467f3"
      },
      "execution_count": 17,
      "outputs": [
        {
          "output_type": "stream",
          "name": "stdout",
          "text": [
            "[-2  1  2]\n",
            "[-2  1  2]\n"
          ]
        }
      ]
    },
    {
      "cell_type": "code",
      "source": [
        "#Vector Multiplication\n",
        "print(np.multiply(A,B))\n",
        "\n",
        "print(A*B)"
      ],
      "metadata": {
        "colab": {
          "base_uri": "https://localhost:8080/"
        },
        "id": "tU1z5_cC32R2",
        "outputId": "e1bc4db6-a323-4fe7-8679-0c3a376e7289"
      },
      "execution_count": 25,
      "outputs": [
        {
          "output_type": "stream",
          "name": "stdout",
          "text": [
            "[[  8   6]\n",
            " [-20 -15]]\n",
            "[[  8   6]\n",
            " [-20 -15]]\n"
          ]
        }
      ]
    },
    {
      "cell_type": "code",
      "source": [
        "#Vector Division\n",
        "print(np.divide(A,B))\n",
        "\n",
        "print(A/B)\n",
        "\n",
        "C = np.array([3.9,1.8,7.7])\n",
        "D = np.array([1,1,1])\n",
        "print(C//D)\n",
        "\n",
        "print(np.array(A/B,dtype=int))"
      ],
      "metadata": {
        "colab": {
          "base_uri": "https://localhost:8080/"
        },
        "id": "5gwy40B666i8",
        "outputId": "913eecf3-484c-4b77-a2b9-5e272b20264f"
      },
      "execution_count": 28,
      "outputs": [
        {
          "output_type": "stream",
          "name": "stdout",
          "text": [
            "[[ 2.   1.5]\n",
            " [-0.8 -0.6]]\n",
            "[[ 2.   1.5]\n",
            " [-0.8 -0.6]]\n",
            "[3. 1. 7.]\n",
            "[[2 1]\n",
            " [0 0]]\n"
          ]
        }
      ]
    }
  ]
}